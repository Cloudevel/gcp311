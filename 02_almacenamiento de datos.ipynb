{
 "cells": [
  {
   "cell_type": "markdown",
   "metadata": {},
   "source": [
    "[![cloudevel](img/cloudevel.png)](https://www.cloudevel.com)"
   ]
  },
  {
   "cell_type": "markdown",
   "metadata": {},
   "source": [
    "# Almacenamiento de datos."
   ]
  },
  {
   "cell_type": "markdown",
   "metadata": {},
   "source": [
    "## Data Store\n",
    "Los **data stores** o **almacenes de datos** son sistemas informáticos diseñados para almacenar, organizar y recuperar grandes cantidades de información de manera eficiente. Se utilizan en una amplia gama de aplicaciones, desde el comercio electrónico y las redes sociales hasta la atención médica y la investigación científica.\n",
    "\n",
    "**Tipos de Data Stores:**\n",
    "\n",
    "La elección del data store adecuado depende de las características de los datos, las necesidades de acceso y el patrón de uso. A continuación, se presentan algunos de los tipos más comunes:\n",
    "\n",
    "**1. Bases de datos relacionales:**\n",
    "\n",
    "* **Estructura tabular:** Almacenan datos en tablas con filas y columnas, donde cada fila representa un registro individual y cada columna representa un atributo del registro.\n",
    "* **Relaciones entre datos:** Permiten definir relaciones entre tablas mediante claves foráneas.\n",
    "* **Lenguaje de consulta estructurado (SQL):** Utilizan SQL para acceder, manipular y analizar datos.\n",
    "* **Ejemplos:** MySQL, PostgreSQL, Oracle Database.\n",
    "\n",
    "**2. NoSQL:**\n",
    "\n",
    "* **Esquema flexible:** No requieren un esquema predefinido, lo que permite almacenar datos sin estructuras rígidas.\n",
    "* **Modelos de datos diversos:** Pueden almacenar datos en forma de documentos, claves-valor, grafos o series temporales.\n",
    "* **Escalabilidad horizontal:** Se pueden distribuir en múltiples servidores para manejar grandes volúmenes de datos.\n",
    "* **Ejemplos:** MongoDB, Cassandra, CouchDB.\n",
    "\n",
    "**3. Almacenamiento en caché:**\n",
    "\n",
    "* **Almacenamiento temporal de datos:** Almacenan datos de acceso frecuente para reducir la latencia y mejorar el rendimiento de las aplicaciones.\n",
    "* **Velocidad de acceso rápida:** Utilizan tecnologías como la memoria caché en RAM para acceder a los datos de forma muy rápida.\n",
    "* **Datos dinámicos:** Ideales para almacenar datos que cambian con frecuencia.\n",
    "* **Ejemplos:** Memcached, Redis.\n",
    "\n",
    "**4. Data Lakes:**\n",
    "\n",
    "* **Almacenamiento de datos sin procesar:** Almacenan grandes cantidades de datos sin procesar en su formato nativo (texto, imágenes, vídeo, etc.).\n",
    "* **Escalabilidad masiva:** Pueden almacenar petabytes o exabytes de datos.\n",
    "* **Análisis de big data:** Facilitan el análisis de grandes conjuntos de datos sin necesidad de estructurarlos previamente.\n",
    "* **Ejemplos:** Amazon S3, Microsoft Azure Data Lake Storage.\n",
    "\n",
    "**5. Data Warehouses:**\n",
    "\n",
    "* **Datos estructurados y organizados:** Diseñados para almacenar y analizar datos estructurados y organizados con fines de inteligencia empresarial.\n",
    "* **Modelado de datos complejo:** Permiten crear modelos de datos complejos para representar relaciones entre diferentes entidades.\n",
    "* **Análisis dimensional:** Facilitan el análisis dimensional y OLAP para obtener información valiosa de los datos.\n",
    "* **Ejemplos:** Google BigQuery, Amazon Redshift, Snowflake.\n",
    "\n",
    "**Arquitecturas de Data Stores:**\n",
    "\n",
    "La **arquitectura de un data store** define cómo se organizan y gestionan los datos dentro del sistema. Algunas arquitecturas comunes incluyen:\n",
    "\n",
    "* **Arquitectura monolítica:** Todos los componentes del data store se encuentran en un solo servidor o conjunto de servidores.\n",
    "* **Arquitectura distribuida:** Los componentes del data store se distribuyen en múltiples servidores para mejorar la escalabilidad y el rendimiento.\n",
    "* **Arquitectura en la nube:** El data store se ejecuta en una plataforma de nube como Amazon Web Services (AWS), Microsoft Azure o Google Cloud Platform (GCP).\n",
    "* **Arquitectura híbrida:** Combina elementos de las arquitecturas monolíticas, distribuidas y en la nube."
   ]
  },
  {
   "cell_type": "markdown",
   "metadata": {},
   "source": [
    "## Productos de almacenamiento de datos en GCP\n",
    "\n",
    "**1. Almacenamiento de objetos:**\n",
    "\n",
    "* **Cloud Storage:** Almacena grandes cantidades de datos no estructurados (archivos, imágenes, videos) de forma escalable y con alta disponibilidad. Ideal para backups, análisis de big data y almacenamiento web.\n",
    "\n",
    "**2. Almacenamiento de bases de datos:**\n",
    "\n",
    "* **Cloud SQL:** Bases de datos gestionadas MySQL, PostgreSQL y SQL Server totalmente compatibles. Ideal para aplicaciones web, bases de datos relacionales y cargas de trabajo SQL.\n",
    "* **Cloud Spanner:** Base de datos SQL global y distribuida con escalabilidad horizontal, alta disponibilidad y fuerte consistencia. Ideal para aplicaciones críticas que requieren alto rendimiento y confiabilidad.\n",
    "* **Firestore:** Base de datos de documentos NoSQL escalable y totalmente gestionada. Ideal para aplicaciones móviles, juegos y aplicaciones web que requieren flexibilidad y escalabilidad.\n",
    "\n",
    "**3. Almacenamiento en caché:**\n",
    "\n",
    "* **Cloud CDN:** Red global de servidores CDN que acelera la entrega de contenido web estático (imágenes, CSS, JavaScript). Ideal para mejorar el rendimiento de sitios web y aplicaciones web.\n",
    "* **Memcached:** Caché en memoria totalmente gestionada que almacena datos clave-valor de acceso rápido. Ideal para almacenar datos frecuentemente accedidos y reducir la carga en bases de datos.\n",
    "* **Redis:** Caché en memoria y base de datos NoSQL de alto rendimiento. Ideal para aplicaciones que requieren almacenamiento rápido y flexible (juegos, mensajería, análisis en tiempo real).\n",
    "\n",
    "**4. Almacenamiento de datos:**\n",
    "\n",
    "* **BigQuery:** Almacén de datos en la nube totalmente gestionado para analizar conjuntos de datos petabyte a escala. Ideal para análisis de big data, inteligencia empresarial y creación de informes.\n",
    "* **Dataproc:** Servicio de procesamiento de datos basado en Apache Spark y Hadoop para ejecutar pipelines de datos batch y streaming en clusters escalables. Ideal para análisis de big data complejos y procesamiento en tiempo real.\n",
    "\n",
    "**5. Recursos de sistemas de archivos por bloques:**\n",
    "\n",
    "* **Persistent Disk:** Discos duros virtuales persistentes que se adjuntan a las VM de Compute Engine. Ideal para almacenar datos de SO, aplicaciones y datos de usuario de forma persistente.\n",
    "* **Local SSD:** Unidades de estado sólido locales de alto rendimiento disponibles para VM de Compute Engine. Ideal para cargas de trabajo que requieren baja latencia y alto rendimiento de E/S.\n",
    "* **Cloud Storage para NFS:** Montaje de buckets de Cloud Storage como sistemas de archivos NFS. Ideal para acceder a grandes conjuntos de datos en la nube desde aplicaciones que requieren acceso a nivel de sistema de archivos.\n",
    "\n",
    "**6. Caché de memoria:**\n",
    "\n",
    "* **Memorystore for Memcached:** Caché en memoria totalmente gestionado basado en Memcached. Ideal para almacenar datos clave-valor de acceso rápido y reducir la latencia de las aplicaciones.\n",
    "* **Memorystore for Redis:** Caché en memoria y base de datos NoSQL totalmente gestionada basada en Redis. Ideal para aplicaciones que requieren almacenamiento rápido y flexible, como juegos, mensajería y análisis en tiempo real."
   ]
  },
  {
   "cell_type": "markdown",
   "metadata": {},
   "source": [
    "<p style=\"text-align: center\"><a rel=\"license\" href=\"http://creativecommons.org/licenses/by/4.0/\"><img alt=\"Licencia Creative Commons\" style=\"border-width:0\" src=\"https://i.creativecommons.org/l/by/4.0/80x15.png\" /></a><br />Esta obra está bajo una <a rel=\"license\" href=\"http://creativecommons.org/licenses/by/4.0/\">Licencia Creative Commons Atribución 4.0 Internacional</a>.</p>\n",
    "<p style=\"text-align: center\">&copy; José Luis Chiquete Valdivieso. 2024.</p>"
   ]
  }
 ],
 "metadata": {
  "kernelspec": {
   "display_name": "Python 3 (ipykernel)",
   "language": "python",
   "name": "python3"
  },
  "language_info": {
   "codemirror_mode": {
    "name": "ipython",
    "version": 3
   },
   "file_extension": ".py",
   "mimetype": "text/x-python",
   "name": "python",
   "nbconvert_exporter": "python",
   "pygments_lexer": "ipython3",
   "version": "3.10.12"
  }
 },
 "nbformat": 4,
 "nbformat_minor": 4
}
