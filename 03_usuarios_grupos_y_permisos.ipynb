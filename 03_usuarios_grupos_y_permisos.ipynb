{
 "cells": [
  {
   "cell_type": "markdown",
   "metadata": {},
   "source": [
    "[![cloudevel](img/cloudevel.png)](https://cloudevel.com)"
   ]
  },
  {
   "cell_type": "markdown",
   "metadata": {},
   "source": [
    "# Usuarios, grupos y permisos."
   ]
  },
  {
   "cell_type": "markdown",
   "metadata": {},
   "source": [
    "## *IAM*."
   ]
  },
  {
   "cell_type": "markdown",
   "metadata": {},
   "source": [
    "Define:\n",
    "\n",
    "* *Quién*\n",
    "* *Qué puede hacer*\n",
    "* *Sobre qué recurso*"
   ]
  },
  {
   "cell_type": "markdown",
   "metadata": {},
   "source": [
    "Enterprise Mobility Management (EMM)\n",
    "Indentity & Access Management)"
   ]
  },
  {
   "cell_type": "markdown",
   "metadata": {},
   "source": [
    "## Gestión de usuarios de una organización."
   ]
  },
  {
   "cell_type": "markdown",
   "metadata": {},
   "source": [
    "https://admin.google.com"
   ]
  },
  {
   "cell_type": "markdown",
   "metadata": {},
   "source": [
    "## Usuarios y cuentas de servicios."
   ]
  },
  {
   "cell_type": "markdown",
   "metadata": {},
   "source": [
    "### Principio del menor privilegio."
   ]
  },
  {
   "cell_type": "markdown",
   "metadata": {},
   "source": [
    "### Identidad.\n",
    "\n",
    "Una identidad corresponde al usuario que tiene acceso a los recursos de *GCP*.\n",
    "\n",
    "* Usuarios.\n",
    "* Grupos.\n",
    "* Cuentas de servicios.\n",
    "    * Se autentican usando claves (*keys*).\n",
    "    * También son recursos.\n",
    "    "
   ]
  },
  {
   "cell_type": "markdown",
   "metadata": {},
   "source": [
    "### Autenticación.\n",
    "\n",
    "https://cloud.google.com/docs/authentication"
   ]
  },
  {
   "cell_type": "markdown",
   "metadata": {},
   "source": [
    "### Roles.\n",
    "\n",
    "Conjunto de permisos.\n",
    "\n",
    "* Roles primitivos.\n",
    "  * Propietario.\n",
    "     * Facturación.\n",
    "  * Editor.\n",
    "  * Visor.\n",
    "* Roles predefinidos.\n",
    "* Roles a la medida."
   ]
  },
  {
   "cell_type": "markdown",
   "metadata": {},
   "source": [
    "### Cuentas de servicios.\n",
    "\n",
    "Hasta 100 por proyecto.\n",
    "\n",
    "* Gestionadas por el usuario.\n",
    "* Gestionadas por Google.\n",
    "\n",
    "Autenticación mediante claves cifradas (encrypted keys)"
   ]
  },
  {
   "cell_type": "markdown",
   "metadata": {},
   "source": [
    "### Organization Administration Role.\n",
    "\n",
    "* Define la estructura de la jerarquía de recursos.\n",
    "* Define las políticas de gestión de identidad y acceso a la estructura de recursos.\n",
    "* Delega otros roles de gestión."
   ]
  },
  {
   "cell_type": "markdown",
   "metadata": {},
   "source": [
    "## Grupos."
   ]
  },
  {
   "cell_type": "markdown",
   "metadata": {},
   "source": [
    "## Asignación."
   ]
  },
  {
   "cell_type": "markdown",
   "metadata": {},
   "source": [
    "## Permisos."
   ]
  },
  {
   "cell_type": "markdown",
   "metadata": {},
   "source": []
  },
  {
   "cell_type": "markdown",
   "metadata": {},
   "source": [
    "## Cuentas de facturación."
   ]
  },
  {
   "cell_type": "markdown",
   "metadata": {},
   "source": [
    "* Autoservicio.\n",
    "* Facturable."
   ]
  },
  {
   "cell_type": "markdown",
   "metadata": {},
   "source": [
    "<p style=\"text-align: center\"><a rel=\"license\" href=\"http://creativecommons.org/licenses/by/4.0/\"><img alt=\"Licencia Creative Commons\" style=\"border-width:0\" src=\"https://i.creativecommons.org/l/by/4.0/80x15.png\" /></a><br />Esta obra está bajo una <a rel=\"license\" href=\"http://creativecommons.org/licenses/by/4.0/\">Licencia Creative Commons Atribución 4.0 Internacional</a>.</p>\n",
    "<p style=\"text-align: center\">&copy; José Luis Chiquete Valdivieso. 2021.</p>"
   ]
  }
 ],
 "metadata": {
  "kernelspec": {
   "display_name": "Bash",
   "language": "bash",
   "name": "bash"
  },
  "language_info": {
   "codemirror_mode": "shell",
   "file_extension": ".sh",
   "mimetype": "text/x-sh",
   "name": "bash"
  }
 },
 "nbformat": 4,
 "nbformat_minor": 2
}
