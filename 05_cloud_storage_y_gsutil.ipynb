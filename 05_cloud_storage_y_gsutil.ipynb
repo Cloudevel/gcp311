{
 "cells": [
  {
   "cell_type": "markdown",
   "metadata": {},
   "source": [
    "[![cloudevel](img/cloudevel.png)](https://cloudevel.com)"
   ]
  },
  {
   "cell_type": "markdown",
   "metadata": {},
   "source": [
    "# *Cloud Storage* y ```gsutil```."
   ]
  },
  {
   "cell_type": "markdown",
   "metadata": {},
   "source": [
    "* Es un servicio de almacenamiento de objetos seguro, escalable y de alto rendimiento dentro de la plataforma Google Cloud. \n",
    "* Está diseñado para almacenar y servir cualquier cantidad de datos, sin importar su formato (archivos, imágenes, videos, bases de datos, etc.).\n",
    "\n",
    "**Características principales**\n",
    "\n",
    "* **Durabilidad:** Google Cloud Storage garantiza una durabilidad del 99.999999999% de tus objetos, lo que significa una posibilidad extremadamente baja de perder los datos.\n",
    "* **Escalabilidad:** Puedes almacenar cantidades prácticamente ilimitadas de datos y Cloud Storage se ajusta automáticamente\n",
    "* **Rendimiento:** Está optimizado para ofrecer un acceso rápido y bajas latencias en la recuperación de tus objetos.\n",
    "* **Seguridad:** Los datos se cifran tanto en reposo como en tránsito. Puedes controlar el acceso usando un sistema de permisos detallado.\n",
    "* **Integración:** Funciona a la perfección con otros servicios de Google Cloud Platform para crear soluciones integrales.\n",
    "\n",
    "**Casos de uso comunes**\n",
    "\n",
    "* **Almacenamiento de archivos de respaldo:**  Guarda copias de seguridad para proteger tus datos importantes.\n",
    "* **Servir contenido web:** Almacena imágenes, videos y demás elementos para tu sitio web o aplicación.\n",
    "* **Big Data y análisis:** Puede usarse como base de lagos de datos (data lakes) para proyectos de inteligencia artificial y análisis a gran escala.\n",
    "* **Archivo a largo plazo:** Su durabilidad y rentabilidad lo convierten en una buena opción para el almacenamiento de datos a los que no necesitas acceder con frecuencia.\n",
    "\n",
    "* **Documentación oficial de Google Cloud Storage:** [https://cloud.google.com/storage](https://cloud.google.com/storage)"
   ]
  },
  {
   "cell_type": "markdown",
   "metadata": {},
   "source": [
    "## El almacenamiento de objetos y los buckets en la nube\n",
    "\n",
    "**El almacenamiento de objetos** es un modelo de almacenamiento en la nube que trata los datos como objetos individuales, no como parte de una jerarquía de carpetas y directorios. Cada objeto tiene un identificador único y metadatos asociados que describen el contenido. Los objetos se almacenan en grandes depósitos denominados \"buckets\".\n",
    "\n",
    "**Características principales del almacenamiento de objetos:**\n",
    "\n",
    "* **Escalabilidad:** Permite almacenar grandes cantidades de datos de forma eficiente y escalable.\n",
    "* **Durabilidad:** Los datos se replican en varios servidores para garantizar su disponibilidad y resistencia a fallos.\n",
    "* **Bajo costo:** Es generalmente más económico que el almacenamiento tradicional en disco.\n",
    "* **Accesibilidad global:** Se puede acceder a los objetos desde cualquier lugar del mundo con una conexión a internet.\n",
    "* **Simplicidad:** El modelo de almacenamiento es simple y fácil de usar.\n",
    "\n",
    "**¿Qué son los buckets?**\n",
    "\n",
    "Un **bucket** (o depósito) es un contenedor virtual que almacena objetos en el almacenamiento de objetos en la nube. Funciona como un repositorio central para almacenar y organizar tus datos.\n",
    "\n",
    "**Características principales de los buckets:**\n",
    "\n",
    "* **Jerarquía de nombres plana:** Los buckets no tienen una estructura jerárquica como las carpetas, sino que utilizan un sistema de nombres plano para organizar los objetos.\n",
    "* **Metadatos:** Cada bucket puede tener metadatos asociados que describen el contenido del bucket, como su propietario o las políticas de acceso.\n",
    "* **Seguridad:** Puedes controlar el acceso a los buckets y a los objetos mediante políticas de IAM (Identity and Access Management).\n",
    "\n",
    "**Recursos adicionales:**\n",
    "\n",
    "* [¿Qué es el almacenamiento de objetos? Casos de uso y beneficios - Google Cloud](https://cloud.google.com/learn/what-is-object-storage?hl=es-419)"
   ]
  },
  {
   "cell_type": "markdown",
   "metadata": {},
   "source": [
    "https://cloud.google.com/storage/docs/how-to"
   ]
  },
  {
   "cell_type": "markdown",
   "metadata": {},
   "source": [
    "### Carpetas.\n",
    "\n",
    "https://cloud.google.com/storage/docs/folders"
   ]
  },
  {
   "cell_type": "markdown",
   "metadata": {},
   "source": [
    "## Atributos."
   ]
  },
  {
   "cell_type": "markdown",
   "metadata": {},
   "source": [
    "## Clases de almacenamiento.\n",
    "\n",
    "Para elegir la clase de almacenamiento adecuada, considera los siguientes factores:\n",
    "\n",
    "* **Necesidades de acceso a datos:** ¿Con qué frecuencia se accede a los datos? ¿Necesitas baja latencia?\n",
    "* **Ubicación de los usuarios:** ¿En qué regiones se encuentran tus usuarios?\n",
    "* **Requisitos de durabilidad:** ¿Qué nivel de durabilidad necesitas para tus datos?\n",
    "* **Presupuesto:** ¿Cuánto estás dispuesto a gastar en almacenamiento?\n",
    "\n",
    "https://cloud.google.com/storage/docs/storage-classes"
   ]
  },
  {
   "cell_type": "markdown",
   "metadata": {},
   "source": [
    "### Clases de almacenamiento de GCS por distribución geográfica\n",
    "\n",
    "Google Cloud Storage (GCS) ofrece diferentes **clases de almacenamiento** que varían en términos de **replicación de datos, rendimiento y costo**. La elección de la clase adecuada depende de tus necesidades específicas de almacenamiento.\n",
    "\n",
    "En cuanto a la **distribución geográfica**, GCS almacena los datos en **múltiples regiones** del mundo para mejorar la durabilidad, la disponibilidad y el rendimiento. Las regiones se agrupan en **zonas de disponibilidad**, que son instalaciones físicas ubicadas en la misma área geográfica.\n",
    "\n",
    "**Clases de almacenamiento por distribución geográfica:**\n",
    "\n",
    "**1. Regional:**\n",
    "\n",
    "* **Replicación:** Los datos se replican en **tres zonas de disponibilidad** dentro de una región específica.\n",
    "* **Rendimiento:** Ofrece alta disponibilidad y baja latencia para accesos locales.\n",
    "* **Costo:** Es la opción más económica.\n",
    "* **Ideal para:** Contenidos web, aplicaciones de baja latencia, análisis de datos y almacenamiento de respaldo.\n",
    "\n",
    "**2. Multiregional:**\n",
    "\n",
    "* **Replicación:** Los datos se replican en **múltiples regiones** dentro de la misma área geográfica (por ejemplo, Norteamérica).\n",
    "* **Rendimiento:** Ofrece alta disponibilidad y buena latencia para accesos regionales.\n",
    "* **Costo:** Mayor que el almacenamiento regional, pero sigue siendo rentable.\n",
    "* **Ideal para:** Datos que necesitan estar disponibles en una región geográfica amplia, aplicaciones de misión crítica y cumplimiento de normativas regionales."
   ]
  },
  {
   "cell_type": "markdown",
   "metadata": {},
   "source": [
    "### Clases de almacenamiento de GCS por ciclo de vida\n",
    "\n",
    "Además de la distribución geográfica, Google Cloud Storage (GCS) también ofrece diferentes **clases de almacenamiento** basadas en el **ciclo de vida** de los datos. Esto te permite optimizar los costos de almacenamiento en función de la frecuencia con la que se accede a los datos.\n",
    "\n",
    "**Las clases de almacenamiento por ciclo de vida son:**\n",
    "\n",
    "**1. Standard:**\n",
    "\n",
    "* **Características:** Es la clase de almacenamiento predeterminada. Ofrece acceso de alta disponibilidad y baja latencia a los datos.\n",
    "* **Costo:** Es la opción más costosa por GB almacenado.\n",
    "* **Ideal para:** Datos a los que se accede con frecuencia, como aplicaciones web, contenido dinámico y bases de datos activas.\n",
    "\n",
    "**2. Nearline:**\n",
    "\n",
    "* **Características:** Diseñada para almacenar datos a los que se accede con poca frecuencia. Ofrece acceso de baja latencia dentro de la región, pero mayor latencia para accesos interregionales.\n",
    "* **Costo:** Menor costo por GB almacenado que la clase Standard.\n",
    "* **Ideal para:** Archivos de datos, como análisis de datos, copias de seguridad y contenido multimedia.\n",
    "\n",
    "**3. Coldline:**\n",
    "\n",
    "* **Características:** Diseñada para almacenar datos inactivos a los que se accede con muy poca frecuencia. Ofrece acceso de alta latencia (típicamente de varios milisegundos).\n",
    "* **Costo:** El costo más bajo por GB almacenado.\n",
    "* **Ideal para:** Archivos de datos inactivos, como copias de seguridad a largo plazo y datos de archivo.\n",
    "\n",
    "**4. Archive:**\n",
    "\n",
    "* **Características:** Similar a Coldline, pero con un acceso aún más lento y un costo aún más bajo. Los datos deben restaurarse antes de poder acceder a ellos.\n",
    "* **Costo:** El costo más bajo por GB almacenado.\n",
    "* **Ideal para:** Datos de archivo inactivos a los que se accede muy raramente, como datos legales, registros y copias de seguridad a largo plazo.\n",
    "\n",
    "**Elegir la clase de almacenamiento adecuada por ciclo de vida:**\n",
    "\n",
    "Para elegir la clase de almacenamiento adecuada por ciclo de vida, considera los siguientes factores:\n",
    "\n",
    "* **Frecuencia de acceso:** ¿Con qué frecuencia se accede a los datos?\n",
    "* **Necesidades de latencia:** ¿Qué nivel de latencia es aceptable para acceder a los datos?\n",
    "* **Presupuesto:** ¿Cuánto estás dispuesto a gastar en almacenamiento?\n",
    "\n",
    "**Recomendaciones generales:**\n",
    "\n",
    "* **Almacena los datos a los que se accede con frecuencia en la clase Standard.**\n",
    "* **Mueve los datos a los que se accede con poca frecuencia a Nearline o Coldline para reducir costos.**\n",
    "* **Utiliza la clase Archive para datos inactivos a los que se accede muy raramente.**\n",
    "\n",
    "**Recursos adicionales:**\n",
    "\n",
    "* Documentación de GCS sobre clases de almacenamiento [https://cloud.google.com/storage/docs/storage-classes](https://cloud.google.com/storage/docs/storage-classes)\n",
    "* Calculadora de precios de GCS [https://cloud.google.com/products/calculator](https://cloud.google.com/products/calculator)"
   ]
  },
  {
   "cell_type": "markdown",
   "metadata": {},
   "source": [
    "## Versionamiento y reglas de ciclo de vida en GCS\n",
    "\n",
    "**Versionamiento de objetos:**\n",
    "\n",
    "El **versionamiento de objetos** en GCS te permite mantener un historial de cambios de los objetos almacenados en un bucket. Cada vez que se carga una nueva versión de un objeto, se crea una nueva versión con un identificador único. Esto te permite acceder a versiones anteriores del objeto si es necesario, incluso si la versión actual se ha eliminado o sobrescrito.\n",
    "\n",
    "**Beneficios del versionamiento:**\n",
    "\n",
    "* **Restauración de datos:** Permite restaurar un objeto a una versión anterior en caso de errores, corrupción de datos o cambios no deseados.\n",
    "* **Auditoría y cumplimiento:** Facilita el seguimiento de los cambios realizados en los objetos y el cumplimiento de los requisitos de auditoría y retención de datos.\n",
    "* **Experimentación:** Te permite experimentar con diferentes versiones de un objeto sin afectar la versión actual en producción.\n",
    "\n",
    "**Habilitar el versionamiento:**\n",
    "\n",
    "El versionamiento se habilita a nivel de bucket. Una vez habilitado, se aplica a todos los objetos nuevos que se carguen en el bucket. Los objetos existentes no se versionan automáticamente.\n",
    "\n",
    "**Reglas de ciclo de vida:**\n",
    "\n",
    "Las **reglas de ciclo de vida** en GCS te permiten automatizar la gestión del almacenamiento de objetos en función de su edad, acceso y otras condiciones. Puedes configurar reglas para realizar acciones como:\n",
    "\n",
    "* **Eliminar versiones de objetos antiguas:** Elimina automáticamente las versiones de objetos que superan un cierto número de días, semanas o meses.\n",
    "* **Archivar objetos a un almacenamiento de menor costo:** Mueve objetos inactivos a una clase de almacenamiento de menor costo, como Nearline o Coldline, para reducir costos.\n",
    "* **Eliminar objetos inactivos:** Elimina permanentemente objetos que no se han accedido durante un período de tiempo específico.\n",
    "\n",
    "**Beneficios de las reglas de ciclo de vida:**\n",
    "\n",
    "* **Optimización de costos:** Reduce los costos de almacenamiento al eliminar o archivar objetos que ya no se necesitan.\n",
    "* **Gestión automatizada:** Automatiza la gestión del ciclo de vida de los objetos, lo que te ahorra tiempo y esfuerzo.\n",
    "* **Mejora la eficiencia del almacenamiento:** Libera espacio de almacenamiento para objetos nuevos y activos.\n",
    "\n",
    "**Configurar reglas de ciclo de vida:**\n",
    "\n",
    "Las reglas de ciclo de vida se configuran a nivel de bucket. Puedes crear varias reglas para aplicar diferentes acciones a diferentes tipos de objetos.\n",
    "\n",
    "**Recursos adicionales:**\n",
    "\n",
    "* Documentación de GCS sobre versionamiento de objetos: [https://cloud.google.com/storage/docs/object-versioning](https://cloud.google.com/storage/docs/object-versioning)\n",
    "* Documentación de GCS sobre reglas de ciclo de vida: [https://cloud.google.com/storage/docs/lifecycle](https://cloud.google.com/storage/docs/lifecycle)\n",
    "\n",
    "Espero que esta información te ayude a comprender el versionamiento y las reglas de ciclo de vida en GCS. Si tienes más preguntas, no dudes en contactarme."
   ]
  },
  {
   "cell_type": "markdown",
   "metadata": {},
   "source": [
    "## Tipos de control de acceso a buckets de GCS\n",
    "\n",
    "Google Cloud Storage (GCS) ofrece dos mecanismos principales para controlar el acceso a los buckets:\n",
    "\n",
    "**1. Listas de control de acceso (ACLs):**\n",
    "\n",
    "* **Funcionamiento:** Las ACLs otorgan permisos a usuarios o grupos específicos para realizar acciones en un bucket o sus objetos.\n",
    "* **Características:**\n",
    "    * **Simples:** Fáciles de entender e implementar.\n",
    "    * **Granulares:** Permiten controlar el acceso a nivel de objeto y bucket.\n",
    "    * **Limitadas:** No escalan bien para buckets con muchos usuarios o grupos.\n",
    "\n",
    "**2. Políticas de IAM (Identity and Access Management):**\n",
    "\n",
    "* **Funcionamiento:** IAM es un sistema de control de acceso más robusto y escalable que utiliza roles y permisos para definir quién puede hacer qué en un bucket.\n",
    "* **Características:**\n",
    "    * **Escalables:** Adecuadas para buckets con muchos usuarios o grupos.\n",
    "    * **Flexibles:** Permiten definir roles personalizados y granularmente.\n",
    "    * **Integrables:** Se integran con otros servicios de Google Cloud Platform.\n",
    "\n",
    "**Resumen de las diferencias:**\n",
    "\n",
    "| Característica | ACLs | IAM |\n",
    "|---|---|---|\n",
    "| Simplicidad | Simples | Más complejas |\n",
    "| Granularidad | Granular | Muy granular |\n",
    "| Escalabilidad | Limitadas | Altamente escalables |\n",
    "| Integraciones | No se integran con otros servicios de GCP | Se integran con otros servicios de GCP |\n",
    "\n",
    "**¿Cuándo usar cada tipo?**\n",
    "\n",
    "* **ACLs:** Recomendadas para buckets pequeños con un número limitado de usuarios o grupos que necesitan acceso granular.\n",
    "* **IAM:** Recomendadas para buckets grandes o complejos con muchos usuarios o grupos, o cuando se necesita una mayor flexibilidad y escalabilidad.\n",
    "\n",
    "**Recursos adicionales:**\n",
    "\n",
    "* Documentación de GCS sobre IAM: [https://cloud.google.com/storage/docs/iam](https://cloud.google.com/storage/docs/iam)\n",
    "\n",
    "**Recomendaciones adicionales:**\n",
    "\n",
    "* **Principio de mínimo privilegio:** Otorga solo los permisos necesarios a cada usuario o grupo.\n",
    "* **Auditar los accesos:** Revisa periódicamente los accesos a tus buckets para detectar posibles actividades no deseadas.\n",
    "* **Utilizar IAM si es posible:** IAM es generalmente la mejor opción para controlar el acceso a buckets de GCS.\n",
    "\n",
    "https://cloud.google.com/storage/docs/access-control"
   ]
  },
  {
   "cell_type": "markdown",
   "metadata": {},
   "source": [
    "* ``` Storage Object Admin```."
   ]
  },
  {
   "cell_type": "markdown",
   "metadata": {},
   "source": [
    "## El comando ```gsutil```.\n",
    "\n",
    "**Gsutil** es una herramienta de línea de comandos multiplataforma para interactuar con Google Cloud Storage (GCS). Te permite realizar diversas operaciones de administración de objetos y buckets, como:\n",
    "\n",
    "**Creación y administración de buckets:**\n",
    "\n",
    "* Crear, eliminar y listar buckets.\n",
    "* Cambiar la configuración de buckets, como la ubicación de almacenamiento y las políticas de acceso.\n",
    "\n",
    "**Subida y descarga de objetos:**\n",
    "\n",
    "* Subir archivos locales a buckets de GCS.\n",
    "* Descargar objetos de buckets de GCS a tu computadora local.\n",
    "* Copiar objetos entre buckets de GCS.\n",
    "\n",
    "**Administración de objetos:**\n",
    "\n",
    "* Ver las propiedades de los objetos, como el tamaño, la fecha de creación y el tipo de contenido.\n",
    "* Cambiar las propiedades de los objetos, como la clase de almacenamiento y las ACLs.\n",
    "* Eliminar objetos.\n",
    "\n",
    "**Otras operaciones:**\n",
    "\n",
    "* Sincronizar directorios locales con buckets de GCS.\n",
    "* Realizar búsquedas de texto completo en objetos.\n",
    "* Compartir objetos con otros usuarios o grupos.\n",
    "\n",
    "**Ventajas de usar gsutil:**\n",
    "\n",
    "* **Facilidad de uso:** Gsutil tiene una sintaxis simple y fácil de aprender.\n",
    "* **Potente:** Ofrece una amplia gama de funciones para administrar buckets y objetos.\n",
    "* **Versátil:** Se puede usar en múltiples plataformas, incluyendo Windows, macOS y Linux.\n",
    "* **Gratuito:** Es una herramienta de código abierto y gratuita.\n",
    "\n",
    "**Casos de uso de gsutil:**\n",
    "\n",
    "* **Administrar backups de datos:** Puedes usar gsutil para subir backups de tus archivos a GCS para una protección segura y confiable.\n",
    "* **Alojar contenido web:** Puedes usar gsutil para almacenar y servir contenido web, como imágenes, videos y archivos HTML.\n",
    "* **Analizar datos a gran escala:** Puedes usar gsutil para almacenar y procesar grandes conjuntos de datos en GCS.\n",
    "* **Desarrollar aplicaciones en la nube:** Puedes usar gsutil para interactuar con GCS desde tus aplicaciones en la nube.\n",
    "\n",
    "**En resumen, gsutil es una herramienta esencial para cualquier persona que use Google Cloud Storage. Es fácil de usar, potente y versátil, y te permite realizar una amplia gama de operaciones de administración de buckets y objetos.**\n",
    "\n",
    "**Recursos adicionales:**\n",
    "\n",
    "* **Documentación de Gsutil:** [https://cloud.google.com/storage/docs/gsutil](https://cloud.google.com/storage/docs/gsutil)\n",
    "* **Tutoriales de Gsutil:** [https://cloud.google.com/storage/docs/tutorials](https://cloud.google.com/storage/docs/tutorials)\n",
    "* **Referencia de la línea de comandos de Gsutil:** [se quitó una URL no válida]\n",
    "\n",
    "Espero que esta información te ayude a comprender mejor qué es gsutil y cómo puedes usarlo para administrar tus datos en Google Cloud Storage. Si tienes más preguntas, no dudes en contactarme.\n",
    "\n",
    "\n",
    "```\n",
    "gsutil <subcomando> <ruta1> <ruta2> \n",
    "```\n",
    "\n",
    "\n",
    "https://cloud.google.com/storage/docs/quickstart-gsutil"
   ]
  },
  {
   "cell_type": "markdown",
   "metadata": {},
   "source": [
    "### Creación de un ```bucket```.\n",
    "\n",
    "```\n",
    "gsutil mb gs://<nombre>\n",
    "```\n",
    "\n",
    "**Nota:** Los nombre de los buckets son globales, por lo que es necesario utilizar nombre que no estén ocupados."
   ]
  },
  {
   "cell_type": "code",
   "execution_count": null,
   "metadata": {
    "scrolled": true
   },
   "outputs": [],
   "source": [
    "gsutil mb gs://tercera-generacion-jlcv-1"
   ]
  },
  {
   "cell_type": "markdown",
   "metadata": {},
   "source": [
    "* El siguiiente *bucket* se creó durante la sesión del grupo de estudio y no es necesario crearlo."
   ]
  },
  {
   "cell_type": "code",
   "execution_count": null,
   "metadata": {},
   "outputs": [],
   "source": [
    "gsutil mb gs://tercera-generacion-demo-sye"
   ]
  },
  {
   "cell_type": "markdown",
   "metadata": {},
   "source": [
    "### Copiar desde y hacia un bucket.\n",
    "\n",
    "```\n",
    "gsutil cp <elemento local> gs://<bucket de destino>/\n",
    "```\n",
    "\n",
    "```\n",
    "gsutil cp gs://<bucket de origen>/<elemento>  <directorio local>\n",
    "```\n",
    "\n",
    "```\n",
    "gsutil cp gs://<bucket de origen>/<elemento>  gs://<bucket destino>/<elemento>\n",
    "```\n",
    "\n",
    "Opciones:\n",
    "\n",
    "\n",
    "* ```-r``` permite realizar operaciones de copia de forma recursiva."
   ]
  },
  {
   "cell_type": "code",
   "execution_count": null,
   "metadata": {
    "scrolled": true
   },
   "outputs": [],
   "source": [
    "gsutil cp -r ~/Documentos/Pythonista/Disenos/logo_pythonista gs://tercera-generacion-demo-sye"
   ]
  },
  {
   "cell_type": "code",
   "execution_count": null,
   "metadata": {
    "scrolled": true
   },
   "outputs": [],
   "source": [
    "gsutil cp gs://tercera-generacion-demo-sye/logo_pythonista/pythonista-logo.png gs://tercera-generacion-jlcv-1/"
   ]
  },
  {
   "cell_type": "markdown",
   "metadata": {},
   "source": [
    "### Listado de elementos."
   ]
  },
  {
   "cell_type": "code",
   "execution_count": null,
   "metadata": {},
   "outputs": [],
   "source": [
    "gsutil ls"
   ]
  },
  {
   "cell_type": "code",
   "execution_count": null,
   "metadata": {},
   "outputs": [],
   "source": [
    "gsutil ls gs://tercera-generacion-jlcv-1"
   ]
  },
  {
   "cell_type": "code",
   "execution_count": null,
   "metadata": {},
   "outputs": [],
   "source": [
    "gsutil ls gs://tercera-generacion*"
   ]
  },
  {
   "cell_type": "code",
   "execution_count": null,
   "metadata": {
    "scrolled": true
   },
   "outputs": [],
   "source": [
    "gsutil ls gs://tercera-generacion-demo-sye/logo_pythonista"
   ]
  },
  {
   "cell_type": "code",
   "execution_count": null,
   "metadata": {},
   "outputs": [],
   "source": [
    "gsutil ls gs://tercera-generacion-demo-sye/logo_pythonista/*.png"
   ]
  },
  {
   "cell_type": "markdown",
   "metadata": {},
   "source": [
    "### Mover elementos.\n",
    "\n",
    "```\n",
    "gsutil mv gs://<bucket de origen>/<objeto de origen> gs://<bucket de destino>/<objeto de destino>\n",
    "```"
   ]
  },
  {
   "cell_type": "code",
   "execution_count": null,
   "metadata": {},
   "outputs": [],
   "source": [
    "gsutil ls gs://tercera-generacion-jlcv-1/"
   ]
  },
  {
   "cell_type": "code",
   "execution_count": null,
   "metadata": {},
   "outputs": [],
   "source": [
    "gsutil mv gs://tercera-generacion-jlcv-1/pythonista-logo.png gs://tercera-generacion-jlcv-1/logo.png"
   ]
  },
  {
   "cell_type": "code",
   "execution_count": null,
   "metadata": {},
   "outputs": [],
   "source": [
    "gsutil ls gs://tercera-generacion-jlcv-1/"
   ]
  },
  {
   "cell_type": "markdown",
   "metadata": {},
   "source": [
    "### Eliminar elementos."
   ]
  },
  {
   "cell_type": "code",
   "execution_count": null,
   "metadata": {},
   "outputs": [],
   "source": [
    "gsutil rm gs://tercera-generacion-jlcv-1/logo.png"
   ]
  },
  {
   "cell_type": "code",
   "execution_count": null,
   "metadata": {
    "scrolled": true
   },
   "outputs": [],
   "source": [
    "gsutil ls gs://tercera-generacion-jlcv-1/"
   ]
  },
  {
   "cell_type": "markdown",
   "metadata": {},
   "source": [
    "### Tamaño de un bucket."
   ]
  },
  {
   "cell_type": "code",
   "execution_count": null,
   "metadata": {},
   "outputs": [],
   "source": [
    "gsutil du gs://tercera-generacion-demo-sye/"
   ]
  },
  {
   "cell_type": "code",
   "execution_count": null,
   "metadata": {
    "scrolled": true
   },
   "outputs": [],
   "source": [
    "gsutil du -h gs://tercera-generacion-demo-sye/"
   ]
  },
  {
   "cell_type": "markdown",
   "metadata": {},
   "source": [
    "### Gestión de prevención de acceso público.\n",
    "\n",
    "Argumentos:\n",
    "\n",
    "* ```get``` obtiene la información del objeto.\n",
    "* ```set``` asigna la propiedad del objeto.\n",
    "\n",
    "Posibles valores:\n",
    "\n",
    "* ```unspecified```\n",
    "* ```enforced```"
   ]
  },
  {
   "cell_type": "code",
   "execution_count": null,
   "metadata": {},
   "outputs": [],
   "source": [
    "gsutil pap get gs://tercera-generacion-jlcv-1/"
   ]
  },
  {
   "cell_type": "code",
   "execution_count": null,
   "metadata": {
    "scrolled": true
   },
   "outputs": [],
   "source": [
    "gsutil pap set enforced gs://tercera-generacion-jlcv-1/"
   ]
  },
  {
   "cell_type": "code",
   "execution_count": null,
   "metadata": {},
   "outputs": [],
   "source": [
    "gsutil pap get gs://tercera-generacion-jlcv-1/"
   ]
  },
  {
   "cell_type": "markdown",
   "metadata": {},
   "source": [
    "### Deifnición de la clase de almacenamiento.\n",
    "\n",
    "* ```get``` obtiene la información del objeto.\n",
    "* ```set``` asigna la propiedad indicada al objeto.\n",
    "   * ```STANDARD```\n",
    "   * ```NEARLINE```\n",
    "   * ```COLDLINE```\n",
    "   * ```ARCHIVE```"
   ]
  },
  {
   "cell_type": "code",
   "execution_count": null,
   "metadata": {},
   "outputs": [],
   "source": [
    "gsutil defstorageclass get gs://tercera-generacion-jlcv-1/"
   ]
  },
  {
   "cell_type": "code",
   "execution_count": null,
   "metadata": {},
   "outputs": [],
   "source": [
    "gsutil defstorageclass set NEARLINE gs://tercera-generacion-jlcv-1/"
   ]
  },
  {
   "cell_type": "code",
   "execution_count": null,
   "metadata": {},
   "outputs": [],
   "source": [
    "gsutil defstorageclass get gs://tercera-generacion-jlcv-1/"
   ]
  },
  {
   "cell_type": "code",
   "execution_count": null,
   "metadata": {},
   "outputs": [],
   "source": [
    "gsutil defstorageclass set STANDARD gs://tercera-generacion-jlcv-1/"
   ]
  },
  {
   "cell_type": "markdown",
   "metadata": {},
   "source": [
    "### Sincronización."
   ]
  },
  {
   "cell_type": "code",
   "execution_count": null,
   "metadata": {},
   "outputs": [],
   "source": [
    "gsutil -m rsync /home/josech/Documentos/Pythonista/Disenos/logo_pythonista gs://tercera-generacion-demo-sye/logo_pythonista"
   ]
  },
  {
   "cell_type": "markdown",
   "metadata": {},
   "source": [
    "### Gestión del ciclo de vida de los buckets.\n",
    "\n",
    "* ```get```\n",
    "* ```set```"
   ]
  },
  {
   "cell_type": "code",
   "execution_count": null,
   "metadata": {},
   "outputs": [],
   "source": [
    "gsutil lifecycle get gs://tercera-generacion-jlcv-1/"
   ]
  },
  {
   "cell_type": "markdown",
   "metadata": {},
   "source": [
    "### Despliegue del estado de un objeto."
   ]
  },
  {
   "cell_type": "code",
   "execution_count": null,
   "metadata": {
    "scrolled": true
   },
   "outputs": [],
   "source": [
    "gsutil stat gs://tercera-generacion-demo-sye/logo_pythonista/Saludos.txt"
   ]
  },
  {
   "cell_type": "markdown",
   "metadata": {},
   "source": [
    "### Versionamiento.\n",
    "\n",
    "* ```get```\n",
    "* ```set```"
   ]
  },
  {
   "cell_type": "code",
   "execution_count": null,
   "metadata": {},
   "outputs": [],
   "source": [
    "gsutil versioning get gs://tercera-generacion-demo-sye/"
   ]
  },
  {
   "cell_type": "markdown",
   "metadata": {},
   "source": [
    "### Gestión de identidad y acceso."
   ]
  },
  {
   "cell_type": "code",
   "execution_count": null,
   "metadata": {},
   "outputs": [],
   "source": [
    "gsutil iam get gs://tercera-generacion-jlcv-1/"
   ]
  },
  {
   "cell_type": "markdown",
   "metadata": {},
   "source": [
    "### Listas de control de acceso (*ACL*)."
   ]
  },
  {
   "cell_type": "markdown",
   "metadata": {},
   "source": [
    "```\n",
    "gsutil acl <subcomando>\n",
    "```\n",
    "\n",
    "* ```set```\n",
    "* ```get```\n",
    "* ```ch```"
   ]
  },
  {
   "cell_type": "code",
   "execution_count": null,
   "metadata": {},
   "outputs": [],
   "source": [
    "gsutil acl get gs://tercera-generacion-jlcv-1/"
   ]
  },
  {
   "cell_type": "markdown",
   "metadata": {},
   "source": [
    "### *URLs* firmadas.\n",
    "\n",
    "https://cloud.google.com/storage/docs/access-control/signed-urls"
   ]
  },
  {
   "cell_type": "markdown",
   "metadata": {},
   "source": [
    "### Seguimiento de eventos."
   ]
  },
  {
   "cell_type": "markdown",
   "metadata": {},
   "source": [
    "<p style=\"text-align: center\"><a rel=\"license\" href=\"http://creativecommons.org/licenses/by/4.0/\"><img alt=\"Licencia Creative Commons\" style=\"border-width:0\" src=\"https://i.creativecommons.org/l/by/4.0/80x15.png\" /></a><br />Esta obra está bajo una <a rel=\"license\" href=\"http://creativecommons.org/licenses/by/4.0/\">Licencia Creative Commons Atribución 4.0 Internacional</a>.</p>\n",
    "<p style=\"text-align: center\">&copy; José Luis Chiquete Valdivieso. 2021.</p>"
   ]
  }
 ],
 "metadata": {
  "kernelspec": {
   "display_name": "Bash",
   "language": "bash",
   "name": "bash"
  },
  "language_info": {
   "codemirror_mode": "shell",
   "file_extension": ".sh",
   "mimetype": "text/x-sh",
   "name": "bash"
  }
 },
 "nbformat": 4,
 "nbformat_minor": 4
}
