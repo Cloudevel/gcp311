{
 "cells": [
  {
   "cell_type": "markdown",
   "metadata": {},
   "source": [
    "[![cloudevel](img/cloudevel.png)](https://cloudevel.com)"
   ]
  },
  {
   "cell_type": "markdown",
   "metadata": {},
   "source": [
    "# Pub/Sub."
   ]
  },
  {
   "cell_type": "markdown",
   "metadata": {},
   "source": [
    "Google Cloud Pub/Sub es un **servicio de mensajería en la nube** que te permite enviar y recibir mensajes entre aplicaciones de forma **asíncrona, escalable y segura**. Funciona como un **sistema de publicación-suscripción**, donde los **editores** publican mensajes en **temas** y los **suscriptores** se suscriben a esos temas para recibir los mensajes.\n",
    "\n",
    "**¿Cómo funciona Pub/Sub?**\n",
    "\n",
    "1. **Publicación de mensajes:** Los editores envían mensajes a Pub/Sub especificando un tema. Los mensajes pueden ser de cualquier tamaño, hasta 10 MB, y pueden contener datos estructurados o no estructurados.\n",
    "2. **Ruteo de mensajes:** Pub/Sub se encarga de enrutar los mensajes a todos los suscriptores que se hayan suscrito al tema correspondiente.\n",
    "3. **Recepción de mensajes:** Los suscriptores reciben los mensajes a través de callbacks o mediante sondeo de un canal. Pub/Sub garantiza que cada mensaje sea entregado a todos los suscriptores exactamente una vez.\n",
    "\n",
    "**Características principales de Pub/Sub:**\n",
    "\n",
    "* **Escalabilidad:** Pub/Sub puede manejar **millones de mensajes por segundo** con baja latencia, lo que lo hace ideal para aplicaciones de gran volumen.\n",
    "* **Fiabilidad:** Pub/Sub ofrece **entrega garantizada** de mensajes, incluso en caso de fallos en la infraestructura.\n",
    "* **Flexibilidad:** Pub/Sub admite una amplia variedad de **casos de uso**, desde la simple notificación de eventos hasta la creación de complejos flujos de trabajo.\n",
    "* **Seguridad:** Pub/Sub ofrece **autenticación y autorización** para proteger tus datos.\n",
    "* **Facilidad de uso:** Pub/Sub es fácil de configurar y usar, con **clientes disponibles para múltiples lenguajes de programación**.\n",
    "\n",
    "**Casos de uso de Pub/Sub:**\n",
    "\n",
    "* **Procesamiento de eventos a gran escala:** Pub/Sub es ideal para procesar grandes volúmenes de eventos en tiempo real, como datos de sensores, registros de aplicaciones o actividades de usuarios.\n",
    "* **Arquitecturas sin estado:** Pub/Sub te permite desacoplar aplicaciones y crear arquitecturas sin estado, lo que aumenta la flexibilidad y la escalabilidad.\n",
    "* **Notificaciones:** Pub/Sub se puede usar para enviar notificaciones en tiempo real a los usuarios, como actualizaciones de estado, alertas o mensajes de marketing.\n",
    "* **Flujos de trabajo:** Pub/Sub se puede usar para crear flujos de trabajo complejos que involucran a múltiples aplicaciones y servicios.\n",
    "\n",
    "**En resumen, Pub/Sub es una herramienta poderosa y versátil que te permite crear aplicaciones escalables, confiables y seguras en la nube. Si necesitas una solución para enviar y recibir mensajes entre aplicaciones, Pub/Sub es una excelente opción a considerar.**\n",
    "\n",
    "**Recursos adicionales:**\n",
    "\n",
    "* **Documentación de Pub/Sub:** [https://cloud.google.com/pubsub](https://cloud.google.com/pubsub)\n",
    "* **Tutoriales de Pub/Sub:** [https://www.youtube.com/watch?v=jYIgcdIW1yk](https://www.youtube.com/watch?v=jYIgcdIW1yk)\n",
    "* **Ejemplos de código de Pub/Sub:** [https://github.com/GoogleCloudPlatform/pubsub](https://github.com/GoogleCloudPlatform/pubsub)"
   ]
  },
  {
   "cell_type": "markdown",
   "metadata": {},
   "source": [
    "<p style=\"text-align: center\"><a rel=\"license\" href=\"http://creativecommons.org/licenses/by/4.0/\"><img alt=\"Licencia Creative Commons\" style=\"border-width:0\" src=\"https://i.creativecommons.org/l/by/4.0/80x15.png\" /></a><br />Esta obra está bajo una <a rel=\"license\" href=\"http://creativecommons.org/licenses/by/4.0/\">Licencia Creative Commons Atribución 4.0 Internacional</a>.</p>\n",
    "<p style=\"text-align: center\">&copy; José Luis Chiquete Valdivieso. 2021.</p>"
   ]
  }
 ],
 "metadata": {
  "kernelspec": {
   "display_name": "Bash",
   "language": "bash",
   "name": "bash"
  },
  "language_info": {
   "codemirror_mode": "shell",
   "file_extension": ".sh",
   "mimetype": "text/x-sh",
   "name": "bash"
  }
 },
 "nbformat": 4,
 "nbformat_minor": 4
}
